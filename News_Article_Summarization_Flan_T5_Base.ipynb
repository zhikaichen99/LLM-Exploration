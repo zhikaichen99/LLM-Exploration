{
 "cells": [
  {
   "cell_type": "markdown",
   "id": "d38310f3",
   "metadata": {},
   "source": [
    "# News Article Summarization With Flan T5 Base LLM"
   ]
  },
  {
   "cell_type": "markdown",
   "id": "1fb147ff",
   "metadata": {},
   "source": [
    "# 1.0 Installations and Libraries"
   ]
  },
  {
   "cell_type": "code",
   "execution_count": null,
   "id": "e149c8b3",
   "metadata": {},
   "outputs": [],
   "source": [
    "!pip install --upgrade pip\n",
    "!pip install --disable-pip-version-check\n",
    "!pip install torch==1.13.1\n",
    "!pip install torchdata==0.5.1 --quiet\n",
    "\n",
    "!pip install transformers==4.27.2\n",
    "!pip install datasets==2.11.0 --quiet"
   ]
  },
  {
   "cell_type": "code",
   "execution_count": 1,
   "id": "40c22e09",
   "metadata": {},
   "outputs": [],
   "source": [
    "from datasets import load_dataset\n",
    "from transformers import pipeline\n",
    "from transformers import AutoModelForSeq2SeqLM\n",
    "from transformers import AutoTokenizer\n",
    "from transformers import GenerationConfig"
   ]
  },
  {
   "cell_type": "markdown",
   "id": "6aada52e",
   "metadata": {},
   "source": [
    "# 2.0 Load Dataset"
   ]
  },
  {
   "cell_type": "code",
   "execution_count": 2,
   "id": "ec02689e",
   "metadata": {},
   "outputs": [
    {
     "name": "stderr",
     "output_type": "stream",
     "text": [
      "Found cached dataset xsum (/home/ec2-user/.cache/huggingface/datasets/xsum/default/1.2.0/082863bf4754ee058a5b6f6525d0cb2b18eadb62c7b370b095d1364050a52b71)\n"
     ]
    },
    {
     "data": {
      "application/vnd.jupyter.widget-view+json": {
       "model_id": "6e204c89a1404f1ca9a90576a138ee51",
       "version_major": 2,
       "version_minor": 0
      },
      "text/plain": [
       "  0%|          | 0/3 [00:00<?, ?it/s]"
      ]
     },
     "metadata": {},
     "output_type": "display_data"
    }
   ],
   "source": [
    "# Loading News Articles\n",
    "dataset = load_dataset(\"xsum\")"
   ]
  },
  {
   "cell_type": "code",
   "execution_count": 3,
   "id": "98a682a7",
   "metadata": {},
   "outputs": [
    {
     "data": {
      "text/plain": [
       "DatasetDict({\n",
       "    train: Dataset({\n",
       "        features: ['document', 'summary', 'id'],\n",
       "        num_rows: 204045\n",
       "    })\n",
       "    validation: Dataset({\n",
       "        features: ['document', 'summary', 'id'],\n",
       "        num_rows: 11332\n",
       "    })\n",
       "    test: Dataset({\n",
       "        features: ['document', 'summary', 'id'],\n",
       "        num_rows: 11334\n",
       "    })\n",
       "})"
      ]
     },
     "execution_count": 3,
     "metadata": {},
     "output_type": "execute_result"
    }
   ],
   "source": [
    "dataset"
   ]
  },
  {
   "cell_type": "code",
   "execution_count": 4,
   "id": "62fa28cd",
   "metadata": {},
   "outputs": [
    {
     "data": {
      "text/html": [
       "<div>\n",
       "<style scoped>\n",
       "    .dataframe tbody tr th:only-of-type {\n",
       "        vertical-align: middle;\n",
       "    }\n",
       "\n",
       "    .dataframe tbody tr th {\n",
       "        vertical-align: top;\n",
       "    }\n",
       "\n",
       "    .dataframe thead th {\n",
       "        text-align: right;\n",
       "    }\n",
       "</style>\n",
       "<table border=\"1\" class=\"dataframe\">\n",
       "  <thead>\n",
       "    <tr style=\"text-align: right;\">\n",
       "      <th></th>\n",
       "      <th>document</th>\n",
       "      <th>summary</th>\n",
       "      <th>id</th>\n",
       "    </tr>\n",
       "  </thead>\n",
       "  <tbody>\n",
       "    <tr>\n",
       "      <th>0</th>\n",
       "      <td>The full cost of damage in Newton Stewart, one...</td>\n",
       "      <td>Clean-up operations are continuing across the ...</td>\n",
       "      <td>35232142</td>\n",
       "    </tr>\n",
       "    <tr>\n",
       "      <th>1</th>\n",
       "      <td>A fire alarm went off at the Holiday Inn in Ho...</td>\n",
       "      <td>Two tourist buses have been destroyed by fire ...</td>\n",
       "      <td>40143035</td>\n",
       "    </tr>\n",
       "    <tr>\n",
       "      <th>2</th>\n",
       "      <td>Ferrari appeared in a position to challenge un...</td>\n",
       "      <td>Lewis Hamilton stormed to pole position at the...</td>\n",
       "      <td>35951548</td>\n",
       "    </tr>\n",
       "    <tr>\n",
       "      <th>3</th>\n",
       "      <td>John Edward Bates, formerly of Spalding, Linco...</td>\n",
       "      <td>A former Lincolnshire Police officer carried o...</td>\n",
       "      <td>36266422</td>\n",
       "    </tr>\n",
       "    <tr>\n",
       "      <th>4</th>\n",
       "      <td>Patients and staff were evacuated from Cerahpa...</td>\n",
       "      <td>An armed man who locked himself into a room at...</td>\n",
       "      <td>38826984</td>\n",
       "    </tr>\n",
       "  </tbody>\n",
       "</table>\n",
       "</div>"
      ],
      "text/plain": [
       "                                            document  \\\n",
       "0  The full cost of damage in Newton Stewart, one...   \n",
       "1  A fire alarm went off at the Holiday Inn in Ho...   \n",
       "2  Ferrari appeared in a position to challenge un...   \n",
       "3  John Edward Bates, formerly of Spalding, Linco...   \n",
       "4  Patients and staff were evacuated from Cerahpa...   \n",
       "\n",
       "                                             summary        id  \n",
       "0  Clean-up operations are continuing across the ...  35232142  \n",
       "1  Two tourist buses have been destroyed by fire ...  40143035  \n",
       "2  Lewis Hamilton stormed to pole position at the...  35951548  \n",
       "3  A former Lincolnshire Police officer carried o...  36266422  \n",
       "4  An armed man who locked himself into a room at...  38826984  "
      ]
     },
     "metadata": {},
     "output_type": "display_data"
    }
   ],
   "source": [
    "# Get a sample of the dataset and display in dataframe\n",
    "dataset_sample = dataset[\"train\"].select(range(5))\n",
    "display(dataset_sample.to_pandas())"
   ]
  },
  {
   "cell_type": "markdown",
   "id": "e81738c5",
   "metadata": {},
   "source": [
    "# 3.0 Summarizing Dialogue With An Instruction Prompt"
   ]
  },
  {
   "cell_type": "markdown",
   "id": "e249d55e",
   "metadata": {},
   "source": [
    "## 3.1 Summarizing Using Pipeline and Zero-Shot Inference"
   ]
  },
  {
   "cell_type": "markdown",
   "id": "2a0e77aa",
   "metadata": {},
   "source": [
    "The `pipeline` module provides a high-level API for performing various NLP tasks using pre-trained models. It simplifies the process of using transformer models for tasks such as text generation, sentiment analysis, etc."
   ]
  },
  {
   "cell_type": "code",
   "execution_count": 7,
   "id": "9c138dc6",
   "metadata": {},
   "outputs": [],
   "source": [
    "summarizer = pipeline(\n",
    "    task = \"summarization\",\n",
    "    model = \"google/flan-t5-small\",\n",
    "    min_length = 20,\n",
    "    max_length = 40,\n",
    "    truncation = True\n",
    ")"
   ]
  },
  {
   "cell_type": "markdown",
   "id": "bdfedc47",
   "metadata": {},
   "source": [
    "## 3.2 Generating Summaries"
   ]
  },
  {
   "cell_type": "code",
   "execution_count": 8,
   "id": "0a7039a9",
   "metadata": {},
   "outputs": [
    {
     "name": "stderr",
     "output_type": "stream",
     "text": [
      "/home/ec2-user/anaconda3/envs/pytorch_p310/lib/python3.10/site-packages/transformers/generation/utils.py:1201: UserWarning: You have modified the pretrained model configuration to control generation. This is a deprecated strategy to control generation and will be removed soon, in a future version. Please use a generation configuration file (see https://huggingface.co/docs/transformers/main_classes/text_generation)\n",
      "  warnings.warn(\n"
     ]
    },
    {
     "name": "stdout",
     "output_type": "stream",
     "text": [
      "ARTICLE: The full cost of damage in Newton Stewart, one of the areas worst affected, is still being assessed.\n",
      "Repair work is ongoing in Hawick and many roads in Peeblesshire remain badly affected by standing water.\n",
      "Trains on the west coast mainline face disruption due to damage at the Lamington Viaduct.\n",
      "Many businesses and householders were affected by flooding in Newton Stewart after the River Cree overflowed into the town.\n",
      "First Minister Nicola Sturgeon visited the area to inspect the damage.\n",
      "The waters breached a retaining wall, flooding many commercial properties on Victoria Street - the main shopping thoroughfare.\n",
      "Jeanette Tate, who owns the Cinnamon Cafe which was badly affected, said she could not fault the multi-agency response once the flood hit.\n",
      "However, she said more preventative work could have been carried out to ensure the retaining wall did not fail.\n",
      "\"It is difficult but I do think there is so much publicity for Dumfries and the Nith - and I totally appreciate that - but it is almost like we're neglected or forgotten,\" she said.\n",
      "\"That may not be true but it is perhaps my perspective over the last few days.\n",
      "\"Why were you not ready to help us a bit more when the warning and the alarm alerts had gone out?\"\n",
      "Meanwhile, a flood alert remains in place across the Borders because of the constant rain.\n",
      "Peebles was badly hit by problems, sparking calls to introduce more defences in the area.\n",
      "Scottish Borders Council has put a list on its website of the roads worst affected and drivers have been urged not to ignore closure signs.\n",
      "The Labour Party's deputy Scottish leader Alex Rowley was in Hawick on Monday to see the situation first hand.\n",
      "He said it was important to get the flood protection plan right but backed calls to speed up the process.\n",
      "\"I was quite taken aback by the amount of damage that has been done,\" he said.\n",
      "\"Obviously it is heart-breaking for people who have been forced out of their homes and the impact on businesses.\"\n",
      "He said it was important that \"immediate steps\" were taken to protect the areas most vulnerable and a clear timetable put in place for flood prevention plans.\n",
      "Have you been affected by flooding in Dumfries and Galloway or the Borders? Tell us about your experience of the situation and how it was handled. Email us on selkirk.news@bbc.co.uk or dumfries@bbc.co.uk.\n",
      "\n",
      "BASELINE SUMMARY: Clean-up operations are continuing across the Scottish Borders and Dumfries and Galloway after flooding caused by Storm Frank.\n",
      "\n",
      "GENERATED SUMMARY: [{'summary_text': 'The cost of a flood warning in Dumfries and Galloway is still being assessed, a minister has said.'}]\n"
     ]
    }
   ],
   "source": [
    "# Perform summarization on the first article\n",
    "summary = summarizer(dataset_sample[\"document\"][0])\n",
    "\n",
    "print(\"ARTICLE: {}\".format(dataset_sample[\"document\"][0]))\n",
    "print()\n",
    "print(\"BASELINE SUMMARY: {}\".format(dataset_sample[\"summary\"][0]))\n",
    "print()\n",
    "print(\"GENERATED SUMMARY: {}\".format(summary))"
   ]
  },
  {
   "cell_type": "code",
   "execution_count": 9,
   "id": "0da53e71",
   "metadata": {},
   "outputs": [],
   "source": [
    "# Perform summarization on entire sample dataset\n",
    "summary = summarizer(dataset_sample[\"document\"])"
   ]
  },
  {
   "cell_type": "markdown",
   "id": "62be4af3",
   "metadata": {},
   "source": [
    "## 3.3 Analyzing Results"
   ]
  },
  {
   "cell_type": "code",
   "execution_count": 10,
   "id": "9fd8b49b",
   "metadata": {},
   "outputs": [
    {
     "data": {
      "text/html": [
       "<div>\n",
       "<style scoped>\n",
       "    .dataframe tbody tr th:only-of-type {\n",
       "        vertical-align: middle;\n",
       "    }\n",
       "\n",
       "    .dataframe tbody tr th {\n",
       "        vertical-align: top;\n",
       "    }\n",
       "\n",
       "    .dataframe thead th {\n",
       "        text-align: right;\n",
       "    }\n",
       "</style>\n",
       "<table border=\"1\" class=\"dataframe\">\n",
       "  <thead>\n",
       "    <tr style=\"text-align: right;\">\n",
       "      <th></th>\n",
       "      <th>summary_text</th>\n",
       "    </tr>\n",
       "  </thead>\n",
       "  <tbody>\n",
       "    <tr>\n",
       "      <th>0</th>\n",
       "      <td>The cost of a flood warning in Dumfries and Ga...</td>\n",
       "    </tr>\n",
       "    <tr>\n",
       "      <th>1</th>\n",
       "      <td>A group of people have been killed in a fire a...</td>\n",
       "    </tr>\n",
       "    <tr>\n",
       "      <th>2</th>\n",
       "      <td>Sebastian Vettel and Nico Rosberg won the Gran...</td>\n",
       "    </tr>\n",
       "    <tr>\n",
       "      <th>3</th>\n",
       "      <td>A scout leader accused of sexually abusing a b...</td>\n",
       "    </tr>\n",
       "    <tr>\n",
       "      <th>4</th>\n",
       "      <td>A hospital in Istanbul has been evacuated from...</td>\n",
       "    </tr>\n",
       "  </tbody>\n",
       "</table>\n",
       "</div>"
      ],
      "text/plain": [
       "                                        summary_text\n",
       "0  The cost of a flood warning in Dumfries and Ga...\n",
       "1  A group of people have been killed in a fire a...\n",
       "2  Sebastian Vettel and Nico Rosberg won the Gran...\n",
       "3  A scout leader accused of sexually abusing a b...\n",
       "4  A hospital in Istanbul has been evacuated from..."
      ]
     },
     "execution_count": 10,
     "metadata": {},
     "output_type": "execute_result"
    }
   ],
   "source": [
    "# Analyze the results in a dataframe\n",
    "import pandas as pd\n",
    "\n",
    "results = pd.DataFrame.from_dict(summary)\n",
    "results"
   ]
  },
  {
   "cell_type": "code",
   "execution_count": 11,
   "id": "2b3d2bf4",
   "metadata": {},
   "outputs": [
    {
     "data": {
      "text/html": [
       "<div>\n",
       "<style scoped>\n",
       "    .dataframe tbody tr th:only-of-type {\n",
       "        vertical-align: middle;\n",
       "    }\n",
       "\n",
       "    .dataframe tbody tr th {\n",
       "        vertical-align: top;\n",
       "    }\n",
       "\n",
       "    .dataframe thead th {\n",
       "        text-align: right;\n",
       "    }\n",
       "</style>\n",
       "<table border=\"1\" class=\"dataframe\">\n",
       "  <thead>\n",
       "    <tr style=\"text-align: right;\">\n",
       "      <th></th>\n",
       "      <th>document</th>\n",
       "      <th>summary</th>\n",
       "      <th>generated_summary</th>\n",
       "    </tr>\n",
       "  </thead>\n",
       "  <tbody>\n",
       "    <tr>\n",
       "      <th>0</th>\n",
       "      <td>The full cost of damage in Newton Stewart, one...</td>\n",
       "      <td>Clean-up operations are continuing across the ...</td>\n",
       "      <td>The cost of a flood warning in Dumfries and Ga...</td>\n",
       "    </tr>\n",
       "    <tr>\n",
       "      <th>1</th>\n",
       "      <td>A fire alarm went off at the Holiday Inn in Ho...</td>\n",
       "      <td>Two tourist buses have been destroyed by fire ...</td>\n",
       "      <td>A group of people have been killed in a fire a...</td>\n",
       "    </tr>\n",
       "    <tr>\n",
       "      <th>2</th>\n",
       "      <td>Ferrari appeared in a position to challenge un...</td>\n",
       "      <td>Lewis Hamilton stormed to pole position at the...</td>\n",
       "      <td>Sebastian Vettel and Nico Rosberg won the Gran...</td>\n",
       "    </tr>\n",
       "    <tr>\n",
       "      <th>3</th>\n",
       "      <td>John Edward Bates, formerly of Spalding, Linco...</td>\n",
       "      <td>A former Lincolnshire Police officer carried o...</td>\n",
       "      <td>A scout leader accused of sexually abusing a b...</td>\n",
       "    </tr>\n",
       "    <tr>\n",
       "      <th>4</th>\n",
       "      <td>Patients and staff were evacuated from Cerahpa...</td>\n",
       "      <td>An armed man who locked himself into a room at...</td>\n",
       "      <td>A hospital in Istanbul has been evacuated from...</td>\n",
       "    </tr>\n",
       "  </tbody>\n",
       "</table>\n",
       "</div>"
      ],
      "text/plain": [
       "                                            document  \\\n",
       "0  The full cost of damage in Newton Stewart, one...   \n",
       "1  A fire alarm went off at the Holiday Inn in Ho...   \n",
       "2  Ferrari appeared in a position to challenge un...   \n",
       "3  John Edward Bates, formerly of Spalding, Linco...   \n",
       "4  Patients and staff were evacuated from Cerahpa...   \n",
       "\n",
       "                                             summary  \\\n",
       "0  Clean-up operations are continuing across the ...   \n",
       "1  Two tourist buses have been destroyed by fire ...   \n",
       "2  Lewis Hamilton stormed to pole position at the...   \n",
       "3  A former Lincolnshire Police officer carried o...   \n",
       "4  An armed man who locked himself into a room at...   \n",
       "\n",
       "                                   generated_summary  \n",
       "0  The cost of a flood warning in Dumfries and Ga...  \n",
       "1  A group of people have been killed in a fire a...  \n",
       "2  Sebastian Vettel and Nico Rosberg won the Gran...  \n",
       "3  A scout leader accused of sexually abusing a b...  \n",
       "4  A hospital in Istanbul has been evacuated from...  "
      ]
     },
     "execution_count": 11,
     "metadata": {},
     "output_type": "execute_result"
    }
   ],
   "source": [
    "dataset_sample_df = pd.DataFrame.from_dict(dataset_sample)\n",
    "\n",
    "results = results.rename({\"summary_text\": \"generated_summary\"}, axis = 1)\n",
    "results = results.join(dataset_sample_df)[[\"document\", \"summary\", \"generated_summary\"]]\n",
    "results"
   ]
  },
  {
   "cell_type": "markdown",
   "id": "b90b9457",
   "metadata": {},
   "source": [
    "# 4.0 Generating Summaries with One Shot Inference"
   ]
  },
  {
   "cell_type": "code",
   "execution_count": null,
   "id": "541d8980",
   "metadata": {},
   "outputs": [],
   "source": [
    "# Loading Model\n",
    "\n",
    "model_name = \"google/flan-t5-small\"\n",
    "model = AutoModelForSeq2SeqLM.from_pretrained(model_name)"
   ]
  },
  {
   "cell_type": "code",
   "execution_count": 12,
   "id": "3aa06d09",
   "metadata": {},
   "outputs": [],
   "source": [
    "# Loading tokenizer\n",
    "tokenizer = AutoTokenizer.from_pretrained(model_name, use_fast = True)"
   ]
  },
  {
   "cell_type": "code",
   "execution_count": 13,
   "id": "55dfc392",
   "metadata": {},
   "outputs": [],
   "source": [
    "# function to generate the prompt for our LLM\n",
    "\n",
    "def make_prompt(examples_full, examples_to_summarize):\n",
    "    \"\"\"\n",
    "    This function takes in two lists. The first list contains the prompt-response pairs that the model will see before\n",
    "    making a summary on the examples_to_summarize.\n",
    "    \n",
    "    Inputs:\n",
    "        examples_full (List): List of prompt-response pairs that model will look at beforehand\n",
    "        examples_to_summarize (List): List of dialogues that we want our model to summarize\n",
    "    Outputs:\n",
    "        prompt: prompt that will serve as input for our model. The prompt will contain response pairs as well as the \n",
    "        dialogues which wont have a summary attached. Those will be the dialogues we want our model to summarize.\n",
    "    \"\"\"\n",
    "    \n",
    "    prompt = \"\"\n",
    "    for index in examples_full:\n",
    "        document = dataset[\"train\"][index][\"document\"]\n",
    "        summary = dataset[\"train\"][index][\"summary\"]\n",
    "        \n",
    "        # construct the prompt\n",
    "        prompt += \"\"\"\n",
    "    Document:\n",
    "        \n",
    "    {}\n",
    "        \n",
    "    What was going on?\n",
    "    {}\n",
    "    \"\"\".format(document, summary)\n",
    "        \n",
    "    for index in examples_to_summarize:\n",
    "        document = dataset[\"train\"][index][\"document\"]\n",
    "        \n",
    "        prompt += \"\"\"\n",
    "    Document:\n",
    "        \n",
    "    {}\n",
    "        \n",
    "    What was going on?\n",
    "    \"\"\".format(document)\n",
    "        \n",
    "    return prompt"
   ]
  },
  {
   "cell_type": "code",
   "execution_count": 19,
   "id": "2d979085",
   "metadata": {},
   "outputs": [],
   "source": [
    "# Generate prompt that will be used as input for one-shot inference\n",
    "examples_full = [5]\n",
    "examples_to_summarize = [4]\n",
    "\n",
    "one_shot_prompt = make_prompt(examples_full, examples_to_summarize)"
   ]
  },
  {
   "cell_type": "code",
   "execution_count": 20,
   "id": "e502ba6a",
   "metadata": {},
   "outputs": [
    {
     "data": {
      "text/plain": [
       "'\\n    Document:\\n        \\n    Simone Favaro got the crucial try with the last move of the game, following earlier touchdowns by Chris Fusaro, Zander Fagerson and Junior Bulumakau.\\nRynard Landman and Ashton Hewitt got a try in either half for the Dragons.\\nGlasgow showed far superior strength in depth as they took control of a messy match in the second period.\\nHome coach Gregor Townsend gave a debut to powerhouse Fijian-born Wallaby wing Taqele Naiyaravoro, and centre Alex Dunbar returned from long-term injury, while the Dragons gave first starts of the season to wing Aled Brew and hooker Elliot Dee.\\nGlasgow lost hooker Pat McArthur to an early shoulder injury but took advantage of their first pressure when Rory Clegg slotted over a penalty on 12 minutes.\\nIt took 24 minutes for a disjointed game to produce a try as Sarel Pretorius sniped from close range and Landman forced his way over for Jason Tovey to convert - although it was the lock\\'s last contribution as he departed with a chest injury shortly afterwards.\\nGlasgow struck back when Fusaro drove over from a rolling maul on 35 minutes for Clegg to convert.\\nBut the Dragons levelled at 10-10 before half-time when Naiyaravoro was yellow-carded for an aerial tackle on Brew and Tovey slotted the easy goal.\\nThe visitors could not make the most of their one-man advantage after the break as their error count cost them dearly.\\nIt was Glasgow\\'s bench experience that showed when Mike Blair\\'s break led to a short-range score from teenage prop Fagerson, converted by Clegg.\\nDebutant Favaro was the second home player to be sin-binned, on 63 minutes, but again the Warriors made light of it as replacement wing Bulumakau, a recruit from the Army, pounced to deftly hack through a bouncing ball for an opportunist try.\\nThe Dragons got back within striking range with some excellent combined handling putting Hewitt over unopposed after 72 minutes.\\nHowever, Favaro became sinner-turned-saint as he got on the end of another effective rolling maul to earn his side the extra point with the last move of the game, Clegg converting.\\nDragons director of rugby Lyn Jones said: \"We\\'re disappointed to have lost but our performance was a lot better [than against Leinster] and the game could have gone either way.\\n\"Unfortunately too many errors behind the scrum cost us a great deal, though from where we were a fortnight ago in Dublin our workrate and desire was excellent.\\n\"It was simply error count from individuals behind the scrum that cost us field position, it\\'s not rocket science - they were correct in how they played and we had a few errors, that was the difference.\"\\nGlasgow Warriors: Rory Hughes, Taqele Naiyaravoro, Alex Dunbar, Fraser Lyle, Lee Jones, Rory Clegg, Grayson Hart; Alex Allan, Pat MacArthur, Zander Fagerson, Rob Harley (capt), Scott Cummings, Hugh Blake, Chris Fusaro, Adam Ashe.\\nReplacements: Fergus Scott, Jerry Yanuyanutawa, Mike Cusack, Greg Peterson, Simone Favaro, Mike Blair, Gregor Hunter, Junior Bulumakau.\\nDragons: Carl Meyer, Ashton Hewitt, Ross Wardle, Adam Warren, Aled Brew, Jason Tovey, Sarel Pretorius; Boris Stankovich, Elliot Dee, Brok Harris, Nick Crosswell, Rynard Landman (capt), Lewis Evans, Nic Cudd, Ed Jackson.\\nReplacements: Rhys Buckley, Phil Price, Shaun Knight, Matthew Screech, Ollie Griffiths, Luc Jones, Charlie Davies, Nick Scott.\\n        \\n    What was going on?\\n    Defending Pro12 champions Glasgow Warriors bagged a late bonus-point victory over the Dragons despite a host of absentees and two yellow cards.\\n    \\n    Document:\\n        \\n    Patients and staff were evacuated from Cerahpasa hospital on Wednesday after a man receiving treatment at the clinic threatened to shoot himself and others.\\nOfficers were deployed to negotiate with the man, a young police officer.\\nEarlier reports that the armed man had taken several people hostage proved incorrect.\\nThe chief consultant of Cerahpasa hospital, Zekayi Kutlubay, who was evacuated from the facility, said that there had been \"no hostage crises\", adding that the man was \"alone in the room\".\\nDr Kutlubay said that the man had been receiving psychiatric treatment for the past two years.\\nHe said that the hospital had previously submitted a report stating that the man should not be permitted to carry a gun.\\n\"His firearm was taken away,\" Dr Kutlubay said, adding that the gun in the officer\\'s possession on Wednesday was not his issued firearm.\\nThe incident comes amid tension in Istanbul following several attacks in crowded areas, including the deadly assault on the Reina nightclub on New Year\\'s Eve which left 39 people dead.\\n        \\n    What was going on?\\n    '"
      ]
     },
     "execution_count": 20,
     "metadata": {},
     "output_type": "execute_result"
    }
   ],
   "source": [
    "one_shot_prompt"
   ]
  },
  {
   "cell_type": "code",
   "execution_count": 21,
   "id": "65cd375d",
   "metadata": {},
   "outputs": [],
   "source": [
    "# perform one shot inference with the generated prompt\n",
    "\n",
    "results_one_shot = []\n",
    "\n",
    "for index in examples_to_summarize:\n",
    "    inputs = tokenizer(one_shot_prompt, return_tensors = \"pt\")\n",
    "    output = tokenizer.decode(\n",
    "        model.generate(inputs[\"input_ids\"],\n",
    "                      max_new_tokens = 40,\n",
    "                      min_new_tokens = 20,)[0],\n",
    "        skip_special_tokens = True\n",
    "    )\n",
    "    results_one_shot.append(output)"
   ]
  },
  {
   "cell_type": "code",
   "execution_count": 22,
   "id": "3049146d",
   "metadata": {},
   "outputs": [
    {
     "data": {
      "text/plain": [
       "['A man has been taken hostage by a police officer in Istanbul after he threatened to shoot himself and others.']"
      ]
     },
     "execution_count": 22,
     "metadata": {},
     "output_type": "execute_result"
    }
   ],
   "source": [
    "results_one_shot"
   ]
  },
  {
   "cell_type": "code",
   "execution_count": 27,
   "id": "694c83c1",
   "metadata": {},
   "outputs": [
    {
     "name": "stdout",
     "output_type": "stream",
     "text": [
      "BASELINE SUMMARY: An armed man who locked himself into a room at a psychiatric hospital in Istanbul has ended his threat to kill himself, Turkish media report.\n",
      "\n",
      "GENERATED ZERO SHOT: A hospital in Istanbul has been evacuated from a hospital after a man threatened to shoot himself and others in an attack on a patient.\n",
      "\n",
      "GENERATED ONE SHOT: ['A man has been taken hostage by a police officer in Istanbul after he threatened to shoot himself and others.']\n"
     ]
    }
   ],
   "source": [
    "# Analyzing Results\n",
    "baseline_summary = dataset[\"train\"][4][\"summary\"]\n",
    "zero_shot = results[\"generated_summary\"][4]\n",
    "\n",
    "print(\"BASELINE SUMMARY: {}\".format(baseline_summary))\n",
    "print()\n",
    "print(\"GENERATED ZERO SHOT: {}\".format(zero_shot))\n",
    "print()\n",
    "print(\"GENERATED ONE SHOT: {}\".format(results_one_shot))"
   ]
  },
  {
   "cell_type": "markdown",
   "id": "cc2063c1",
   "metadata": {},
   "source": [
    "# 5.0 Generating Summaries with Few Shot Inference"
   ]
  },
  {
   "cell_type": "code",
   "execution_count": 28,
   "id": "6c7609e5",
   "metadata": {},
   "outputs": [],
   "source": [
    "# Generate prompt that will be used as input for one-shot inference\n",
    "examples_full = [5, 6, 7]\n",
    "examples_to_summarize = [4]\n",
    "\n",
    "few_shot_prompt = make_prompt(examples_full, examples_to_summarize)"
   ]
  },
  {
   "cell_type": "code",
   "execution_count": 29,
   "id": "4dd896e4",
   "metadata": {},
   "outputs": [],
   "source": [
    "# perform few shot inference with the generated prompt\n",
    "\n",
    "results_few_shot = []\n",
    "\n",
    "for index in examples_to_summarize:\n",
    "    inputs = tokenizer(few_shot_prompt, return_tensors = \"pt\")\n",
    "    output = tokenizer.decode(\n",
    "        model.generate(inputs[\"input_ids\"],\n",
    "                      max_new_tokens = 40,\n",
    "                      min_new_tokens = 20,)[0],\n",
    "        skip_special_tokens = True\n",
    "    )\n",
    "    results_few_shot.append(output)"
   ]
  },
  {
   "cell_type": "code",
   "execution_count": 30,
   "id": "68839096",
   "metadata": {},
   "outputs": [
    {
     "data": {
      "text/plain": [
       "['A man has been taken hostage by a hospital in Istanbul after he threatened to shoot himself and others.']"
      ]
     },
     "execution_count": 30,
     "metadata": {},
     "output_type": "execute_result"
    }
   ],
   "source": [
    "results_few_shot"
   ]
  },
  {
   "cell_type": "code",
   "execution_count": 31,
   "id": "c4de80d8",
   "metadata": {},
   "outputs": [
    {
     "name": "stdout",
     "output_type": "stream",
     "text": [
      "BASELINE SUMMARY: An armed man who locked himself into a room at a psychiatric hospital in Istanbul has ended his threat to kill himself, Turkish media report.\n",
      "\n",
      "GENERATED ZERO SHOT: A hospital in Istanbul has been evacuated from a hospital after a man threatened to shoot himself and others in an attack on a patient.\n",
      "\n",
      "GENERATED ONE SHOT: ['A man has been taken hostage by a police officer in Istanbul after he threatened to shoot himself and others.']\n",
      "\n",
      "GENERATED FEW SHOT: ['A man has been taken hostage by a hospital in Istanbul after he threatened to shoot himself and others.']\n"
     ]
    }
   ],
   "source": [
    "# Analyzing results\n",
    "\n",
    "print(\"BASELINE SUMMARY: {}\".format(baseline_summary))\n",
    "print()\n",
    "print(\"GENERATED ZERO SHOT: {}\".format(zero_shot))\n",
    "print()\n",
    "print(\"GENERATED ONE SHOT: {}\".format(results_one_shot))\n",
    "print()\n",
    "print(\"GENERATED FEW SHOT: {}\".format(results_few_shot))"
   ]
  },
  {
   "cell_type": "code",
   "execution_count": null,
   "id": "77bf7eb3",
   "metadata": {},
   "outputs": [],
   "source": []
  }
 ],
 "metadata": {
  "kernelspec": {
   "display_name": "conda_pytorch_p310",
   "language": "python",
   "name": "conda_pytorch_p310"
  },
  "language_info": {
   "codemirror_mode": {
    "name": "ipython",
    "version": 3
   },
   "file_extension": ".py",
   "mimetype": "text/x-python",
   "name": "python",
   "nbconvert_exporter": "python",
   "pygments_lexer": "ipython3",
   "version": "3.10.10"
  }
 },
 "nbformat": 4,
 "nbformat_minor": 5
}
